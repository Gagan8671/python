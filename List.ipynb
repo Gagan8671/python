{
 "cells": [
  {
   "cell_type": "code",
   "execution_count": 2,
   "source": [
    "list1 = ['physics', 'chemistry', 1997, 2000];\n",
    "list2 = [1, 2, 3, 4, 5, 6, 7 ];\n",
    "print (\"list1[0]: \", list1[2])\n",
    "print (\"list2[1:5]: \", list2[1:3])"
   ],
   "outputs": [
    {
     "output_type": "stream",
     "name": "stdout",
     "text": [
      "list1[0]:  1997\n",
      "list2[1:5]:  [2, 3]\n"
     ]
    }
   ],
   "metadata": {}
  },
  {
   "cell_type": "code",
   "execution_count": 4,
   "source": [
    "list = ['physics', 'chemistry', 1997, 2000];\n",
    "print (\"Value available at index 2 : \")\n",
    "print (list[2])\n",
    "list[2] = 999999;\n",
    "print (\"New value available at index 2 : \")\n",
    "print (list[2])"
   ],
   "outputs": [
    {
     "output_type": "stream",
     "name": "stdout",
     "text": [
      "Value available at index 2 : \n",
      "1997\n",
      "New value available at index 2 : \n",
      "999999\n"
     ]
    }
   ],
   "metadata": {}
  },
  {
   "cell_type": "code",
   "execution_count": 5,
   "source": [
    "list1 = ['physics', 'chemistry', 1997, 2000];\n",
    "print (list1)\n",
    "del (list1[2]);\n",
    "print (\"After deleting value at index 2 :\")\n",
    "print (list1)"
   ],
   "outputs": [
    {
     "output_type": "stream",
     "name": "stdout",
     "text": [
      "['physics', 'chemistry', 1997, 2000]\n",
      "After deleting value at index 2 :\n",
      "['physics', 'chemistry', 2000]\n"
     ]
    }
   ],
   "metadata": {}
  },
  {
   "cell_type": "code",
   "execution_count": 9,
   "source": [
    "list1, list2 = [123, 'xyz', 'zara'], [456, 'abc']\n",
    "print (\"First list length : \", len(list1))\n",
    "print (\"Second list length : \", len(list2))"
   ],
   "outputs": [
    {
     "output_type": "stream",
     "name": "stdout",
     "text": [
      "First list length :  3\n",
      "Second list length :  2\n"
     ]
    }
   ],
   "metadata": {}
  },
  {
   "cell_type": "code",
   "execution_count": 17,
   "source": [
    "aList = [123, 'xyz', 'zara', 'abc'];\n",
    "aList.append( 2009 );\n",
    "print (\"Updated List : \", aList)"
   ],
   "outputs": [
    {
     "output_type": "stream",
     "name": "stdout",
     "text": [
      "Updated List :  [123, 'xyz', 'zara', 'abc', 2009]\n"
     ]
    }
   ],
   "metadata": {}
  },
  {
   "cell_type": "code",
   "execution_count": 8,
   "source": [
    "aList = [123, 'xyz', 'xyz', 'abc', 123];\n",
    "print (\"Count for xyz : \", aList.count('xyz'))\n",
    "print (\"Count for zara : \", aList.count('zara'))"
   ],
   "outputs": [
    {
     "output_type": "stream",
     "name": "stdout",
     "text": [
      "Count for xyz :  2\n",
      "Count for zara :  0\n"
     ]
    }
   ],
   "metadata": {}
  },
  {
   "cell_type": "code",
   "execution_count": 1,
   "source": [
    "aList = [123, 'xyz', 'zara', 'abc', 123];\n",
    "bList = [2009, 'piyush'];\n",
    "aList.extend(bList)\n",
    "print (\"Extended List : \", aList)"
   ],
   "outputs": [
    {
     "output_type": "stream",
     "name": "stdout",
     "text": [
      "Extended List :  [123, 'xyz', 'zara', 'abc', 123, 2009, 'piyush']\n"
     ]
    }
   ],
   "metadata": {}
  },
  {
   "cell_type": "code",
   "execution_count": 10,
   "source": [
    "aList = [123, 'xyz', 'zara', 'abc', 'zara'];\n",
    "print (\"Index for xyz : \", aList.index( 'xyz' ) )\n",
    "print (\"Index for zara : \", aList.index( 'zara' ) )"
   ],
   "outputs": [
    {
     "output_type": "stream",
     "name": "stdout",
     "text": [
      "Index for xyz :  1\n",
      "Index for zara :  2\n"
     ]
    }
   ],
   "metadata": {}
  },
  {
   "cell_type": "code",
   "execution_count": 11,
   "source": [
    "aList = [123, 'xyz', 'zara', 'abc']\n",
    "aList.insert( 3, 2009)\n",
    "print (\"Final List : \", aList)"
   ],
   "outputs": [
    {
     "output_type": "stream",
     "name": "stdout",
     "text": [
      "Final List :  [123, 'xyz', 'zara', 2009, 'abc']\n"
     ]
    }
   ],
   "metadata": {}
  },
  {
   "cell_type": "code",
   "execution_count": 14,
   "source": [
    "aList = [123, 'xyz', 'zara', 'abc'];\n",
    "\n",
    "print(aList)\n",
    "\n",
    "print (\"List after popping last element : \", aList.pop())\n",
    "\n",
    "print(aList)\n",
    "\n",
    "print (\"List after popping element from mentioned index: \", aList.pop(2))\n",
    "\n",
    "print(aList)\n",
    "\n",
    "aList.insert(3, 2009)\n",
    "\n",
    "print(aList)"
   ],
   "outputs": [
    {
     "output_type": "stream",
     "name": "stdout",
     "text": [
      "[123, 'xyz', 'zara', 'abc']\n",
      "List after popping last element :  abc\n",
      "[123, 'xyz', 'zara']\n",
      "List after popping element from mentioned index:  zara\n",
      "[123, 'xyz']\n",
      "[123, 'xyz', 2009]\n"
     ]
    }
   ],
   "metadata": {}
  },
  {
   "cell_type": "code",
   "execution_count": 15,
   "source": [
    "aList = [123, 'xyz', 'zara', 'abc', 'xyz'];\n",
    "aList.remove('xyz');\n",
    "print (\"List : \", aList)\n",
    "aList.remove('abc');\n",
    "print (\"List : \", aList)"
   ],
   "outputs": [
    {
     "output_type": "stream",
     "name": "stdout",
     "text": [
      "List :  [123, 'zara', 'abc', 'xyz']\n",
      "List :  [123, 'zara', 'xyz']\n"
     ]
    }
   ],
   "metadata": {}
  },
  {
   "cell_type": "code",
   "execution_count": 2,
   "source": [
    "aList = ['gagan', 'xyz', 'zara', 'abc', 'pavan'];\n",
    "aList.reverse();\n",
    "print (\"List : \", aList)"
   ],
   "outputs": [
    {
     "output_type": "stream",
     "name": "stdout",
     "text": [
      "List :  ['pavan', 'abc', 'zara', 'xyz', 'gagan']\n"
     ]
    }
   ],
   "metadata": {}
  },
  {
   "cell_type": "code",
   "execution_count": 1,
   "source": [
    "aList = ['pavan', 'shashank', 'gagan'];\n",
    "aList.sort();\n",
    "print (\"List : \", aList)"
   ],
   "outputs": [
    {
     "output_type": "stream",
     "name": "stdout",
     "text": [
      "List :  ['gagan', 'pavan', 'shashank']\n"
     ]
    }
   ],
   "metadata": {}
  },
  {
   "cell_type": "code",
   "execution_count": 11,
   "source": [
    "aList = ['xyz', 'zara', 'abc', 'xyz','123'];\n",
    "aList.sort();\n",
    "print (\"List : \", aList)"
   ],
   "outputs": [
    {
     "output_type": "stream",
     "name": "stdout",
     "text": [
      "List :  ['123', 'abc', 'xyz', 'xyz', 'zara']\n"
     ]
    }
   ],
   "metadata": {}
  },
  {
   "cell_type": "code",
   "execution_count": null,
   "source": [],
   "outputs": [],
   "metadata": {}
  }
 ],
 "metadata": {
  "kernelspec": {
   "name": "python3",
   "display_name": "Python 3.7.7 64-bit ('tensorflow': conda)"
  },
  "language_info": {
   "codemirror_mode": {
    "name": "ipython",
    "version": 3
   },
   "file_extension": ".py",
   "mimetype": "text/x-python",
   "name": "python",
   "nbconvert_exporter": "python",
   "pygments_lexer": "ipython3",
   "version": "3.7.7"
  },
  "interpreter": {
   "hash": "930e46df0d1b93ecf8fe51f04b6e478dce688000f1283825e61bc5e483dc45d1"
  }
 },
 "nbformat": 4,
 "nbformat_minor": 5
}