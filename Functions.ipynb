{
 "cells": [
  {
   "cell_type": "code",
   "execution_count": 1,
   "source": [
    "\n",
    "def hello (str):\n",
    "     print(\"in function   \" + str)\n",
    "     print(\"after printing in function definition\")\n",
    "     return;\n",
    "    \n",
    "    \n",
    "print(\"1\")\n",
    "print(\"2\")\n",
    "hello(\"GAGAN\")\n",
    "hello(\"KUMAR\")\n",
    "print(\"3\")\n",
    "    \n",
    "\n"
   ],
   "outputs": [
    {
     "output_type": "stream",
     "name": "stdout",
     "text": [
      "1\n",
      "2\n",
      "in function   GAGAN\n",
      "after printing in function definition\n",
      "in function   KUMAR\n",
      "after printing in function definition\n",
      "3\n"
     ]
    }
   ],
   "metadata": {}
  },
  {
   "cell_type": "code",
   "execution_count": 2,
   "source": [
    "def changeme( mylist ):\n",
    "   mylist.append([1,2,3,4]);\n",
    "   print (\"Values inside the function: \", mylist)\n",
    "   return;\n",
    "\n",
    "mylist = [10,20,30];\n",
    "changeme( mylist );\n",
    "print (\"Values outside the function: \", mylist)\n"
   ],
   "outputs": [
    {
     "output_type": "stream",
     "name": "stdout",
     "text": [
      "Values inside the function:  [10, 20, 30, [1, 2, 3, 4]]\n",
      "Values outside the function:  [10, 20, 30, [1, 2, 3, 4]]\n"
     ]
    }
   ],
   "metadata": {}
  },
  {
   "cell_type": "code",
   "execution_count": 3,
   "source": [
    "def changeme( mylist ):\n",
    "    print (\"BEFORE CHANGESValues inside the function: \", mylist)\n",
    "    mylist = [1,2,3,4]; \n",
    "    print (\"AFTER CHANGES Values inside the function: \", mylist)\n",
    "    return\n",
    "\n",
    "\n",
    "mylist1 = [10,20,30];\n",
    "changeme( mylist1 );\n",
    "print (\"Values outside the function: \", mylist1)"
   ],
   "outputs": [
    {
     "output_type": "stream",
     "name": "stdout",
     "text": [
      "BEFORE CHANGESValues inside the function:  [10, 20, 30]\n",
      "AFTER CHANGES Values inside the function:  [1, 2, 3, 4]\n",
      "Values outside the function:  [10, 20, 30]\n"
     ]
    }
   ],
   "metadata": {}
  },
  {
   "cell_type": "code",
   "execution_count": 4,
   "source": [
    "def printme( str ):\n",
    "     print (str)\n",
    "     return;\n",
    "\n",
    "\n",
    "printme( str = \"My string\")"
   ],
   "outputs": [
    {
     "output_type": "stream",
     "name": "stdout",
     "text": [
      "My string\n"
     ]
    }
   ],
   "metadata": {
    "scrolled": true
   }
  },
  {
   "cell_type": "code",
   "execution_count": 5,
   "source": [
    "def printinfo( name, age ):\n",
    "    print (\"Name: \", name)\n",
    "    print (\"Age \", age)\n",
    "    return;\n",
    "\n",
    "\n",
    "printinfo( age=50, name=\"AAW\" )"
   ],
   "outputs": [
    {
     "output_type": "stream",
     "name": "stdout",
     "text": [
      "Name:  AAW\n",
      "Age  50\n"
     ]
    }
   ],
   "metadata": {}
  },
  {
   "cell_type": "code",
   "execution_count": 6,
   "source": [
    "def printinfo( name, age ):\n",
    "    print (\"Name: \", name)\n",
    "    print (\"Age \", age)\n",
    "    return;\n",
    "\n",
    "printinfo( \"Ash\",50 )"
   ],
   "outputs": [
    {
     "output_type": "stream",
     "name": "stdout",
     "text": [
      "Name:  Ash\n",
      "Age  50\n"
     ]
    }
   ],
   "metadata": {}
  },
  {
   "cell_type": "code",
   "execution_count": 7,
   "source": [
    "def printinfo( name, age ):\n",
    "    print (\"Name: \", name)\n",
    "    print (\"Age \", age)\n",
    "    return;\n",
    "\n",
    "printinfo( 50, \"Ash\" )"
   ],
   "outputs": [
    {
     "output_type": "stream",
     "name": "stdout",
     "text": [
      "Name:  50\n",
      "Age  Ash\n"
     ]
    }
   ],
   "metadata": {}
  },
  {
   "cell_type": "code",
   "execution_count": 8,
   "source": [
    "def printinfo( name, age = 35 ):\n",
    "    print (\"Name: \", name)\n",
    "    print (\"Age \", age)\n",
    "    return;\n",
    "\n",
    "\n",
    "printinfo( age=50, name=\"Ash\" )\n",
    "printinfo( name=\"Ash\" )"
   ],
   "outputs": [
    {
     "output_type": "stream",
     "name": "stdout",
     "text": [
      "Name:  Ash\n",
      "Age  50\n",
      "Name:  Ash\n",
      "Age  35\n"
     ]
    }
   ],
   "metadata": {}
  },
  {
   "cell_type": "code",
   "execution_count": 9,
   "source": [
    "def printinfo( arg1, *vartuple ):\n",
    "     print (\"Output is: \")\n",
    "     print (\"arg1==\",arg1)\n",
    "     for var in vartuple:\n",
    "        print (var)\n",
    "     return;\n",
    "\n",
    "printinfo( 10,78 )\n",
    "printinfo( 70, 60, 50,90 )"
   ],
   "outputs": [
    {
     "output_type": "stream",
     "name": "stdout",
     "text": [
      "Output is: \n",
      "arg1== 10\n",
      "78\n",
      "Output is: \n",
      "arg1== 70\n",
      "60\n",
      "50\n",
      "90\n"
     ]
    }
   ],
   "metadata": {}
  },
  {
   "cell_type": "code",
   "execution_count": 10,
   "source": [
    "sum = lambda arg1, arg2: arg1 + arg2;\n",
    "\n",
    "print (\"Value of total : \", sum( 10, 20 ))\n",
    "print (\"Value of total : \", sum( 20, 20 ))"
   ],
   "outputs": [
    {
     "output_type": "stream",
     "name": "stdout",
     "text": [
      "Value of total :  30\n",
      "Value of total :  40\n"
     ]
    }
   ],
   "metadata": {}
  },
  {
   "cell_type": "code",
   "execution_count": 91,
   "source": [
    "def sum( arg1, arg2 ):\n",
    "    total = arg1 + arg2\n",
    "    print (\"Inside the function : \", total)\n",
    "    return total;\n",
    "\n",
    "\n",
    "total1 = sum( 10, 20 );\n",
    "print (\"Outside the function : \", total1 )"
   ],
   "outputs": [
    {
     "output_type": "stream",
     "name": "stdout",
     "text": [
      "Inside the function :  30\n",
      "Outside the function :  30\n"
     ]
    }
   ],
   "metadata": {}
  },
  {
   "cell_type": "code",
   "execution_count": 11,
   "source": [
    "total = 99; \n",
    "\n",
    "def sum( arg1, arg2 ):\n",
    "    total = arg1 + arg2; \n",
    "    print (\"Inside the function local total : \", total)\n",
    "    return total;\n",
    "\n",
    "\n",
    "sum( 10, 20 );\n",
    "print (\"Outside the function global total : \", total )"
   ],
   "outputs": [
    {
     "output_type": "stream",
     "name": "stdout",
     "text": [
      "Inside the function local total :  30\n",
      "Outside the function global total :  99\n"
     ]
    }
   ],
   "metadata": {}
  },
  {
   "cell_type": "code",
   "execution_count": null,
   "source": [],
   "outputs": [],
   "metadata": {}
  }
 ],
 "metadata": {
  "kernelspec": {
   "name": "python3",
   "display_name": "Python 3.7.7 64-bit ('tensorflow': conda)"
  },
  "language_info": {
   "codemirror_mode": {
    "name": "ipython",
    "version": 3
   },
   "file_extension": ".py",
   "mimetype": "text/x-python",
   "name": "python",
   "nbconvert_exporter": "python",
   "pygments_lexer": "ipython3",
   "version": "3.7.7"
  },
  "interpreter": {
   "hash": "930e46df0d1b93ecf8fe51f04b6e478dce688000f1283825e61bc5e483dc45d1"
  }
 },
 "nbformat": 4,
 "nbformat_minor": 5
}