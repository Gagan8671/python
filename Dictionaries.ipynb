{
 "cells": [
  {
   "cell_type": "code",
   "execution_count": 1,
   "source": [
    "dict={'name':'Gagan','designation':'AsP','qual':'phd','univ':'cmr'}\n",
    "print(dict['name'])\n",
    "\n",
    "\n",
    "print(dict['qual'])"
   ],
   "outputs": [
    {
     "output_type": "stream",
     "name": "stdout",
     "text": [
      "Gagan\n",
      "phd\n"
     ]
    }
   ],
   "metadata": {}
  },
  {
   "cell_type": "code",
   "execution_count": 2,
   "source": [
    "dict={'name':'Gagan','designation':'AsP','qual':'phd','univ':'cmr'}\n",
    "\n",
    "dict['name']='Kumar'\n",
    "\n",
    "print(dict['name'])\n",
    "\n",
    "dict['class']='cse7sem'\n",
    "\n",
    "print(dict['class'])\n",
    "\n"
   ],
   "outputs": [
    {
     "output_type": "stream",
     "name": "stdout",
     "text": [
      "Kumar\n",
      "cse7sem\n"
     ]
    }
   ],
   "metadata": {}
  },
  {
   "cell_type": "code",
   "execution_count": 4,
   "source": [
    "dict={'name':'Gagan','designation':'AsP','qual':'phd','univ':'cmr'}\n",
    "\n",
    "\n",
    "del dict['designation']\n",
    "\n",
    "#print(dict['designation'])\n",
    "\n",
    "dict.clear()\n",
    "\n",
    "#print(dict['name'])\n",
    "\n",
    "del dict"
   ],
   "outputs": [],
   "metadata": {}
  },
  {
   "cell_type": "code",
   "execution_count": 3,
   "source": [
    "dict={'name':'gagan','designation':'AsP','qual':'phd','univ':'cmr', 'name':'kumar'}\n",
    "\n",
    "\n",
    "print(dict['name'])\n",
    "\n",
    "print(len(dict))"
   ],
   "outputs": [
    {
     "output_type": "stream",
     "name": "stdout",
     "text": [
      "kumar\n",
      "4\n"
     ]
    }
   ],
   "metadata": {}
  },
  {
   "cell_type": "code",
   "execution_count": 4,
   "source": [
    "dict={'name':'gagan','designation':'AsP','qual':'phd','univ':'cmr', 'name':'kumar'}\n",
    "\n",
    "\n",
    "print(dict.values())\n",
    "\n",
    "print(dict.items())\n",
    "\n",
    "print(dict.keys())"
   ],
   "outputs": [
    {
     "output_type": "stream",
     "name": "stdout",
     "text": [
      "dict_values(['kumar', 'AsP', 'phd', 'cmr'])\n",
      "dict_items([('name', 'kumar'), ('designation', 'AsP'), ('qual', 'phd'), ('univ', 'cmr')])\n",
      "dict_keys(['name', 'designation', 'qual', 'univ'])\n"
     ]
    }
   ],
   "metadata": {}
  },
  {
   "cell_type": "code",
   "execution_count": 5,
   "source": [
    "dict={'name':'gagan','designation':'AsP','qual':'phd','univ':'cmr', 'name':'kumar'}\n",
    "\n",
    "\n",
    "print(dict['name'])\n",
    "\n",
    "print(dict.get('edu',\"nothing\"))\n",
    "\n",
    "\n"
   ],
   "outputs": [
    {
     "output_type": "stream",
     "name": "stdout",
     "text": [
      "kumar\n",
      "nothing\n"
     ]
    }
   ],
   "metadata": {}
  },
  {
   "cell_type": "code",
   "execution_count": 6,
   "source": [
    "dict={'name':'gagan','designation':'AsP','qual':'phd','univ':'cmr', 'name':'kumar'}\n",
    "\n",
    "\n",
    "dict2=dict.copy()\n",
    "\n",
    "print(dict2['name'])\n",
    "\n",
    "print(len(dict2))"
   ],
   "outputs": [
    {
     "output_type": "stream",
     "name": "stdout",
     "text": [
      "kumar\n",
      "4\n"
     ]
    }
   ],
   "metadata": {}
  },
  {
   "cell_type": "code",
   "execution_count": 7,
   "source": [
    "dict={'name':'gagan','designation':'AsP','qual':'phd','univ':'cmr', 'name':'kumar'}\n",
    "\n",
    "\n",
    "dict2={'edu':'btech-mtech','students':'7sem'}\n",
    "\n",
    "print(dict)\n",
    "print(dict2)\n",
    "\n",
    "dict.update(dict2)\n",
    "\n",
    "print(dict)"
   ],
   "outputs": [
    {
     "output_type": "stream",
     "name": "stdout",
     "text": [
      "{'name': 'kumar', 'designation': 'AsP', 'qual': 'phd', 'univ': 'cmr'}\n",
      "{'edu': 'btech-mtech', 'students': '7sem'}\n",
      "{'name': 'kumar', 'designation': 'AsP', 'qual': 'phd', 'univ': 'cmr', 'edu': 'btech-mtech', 'students': '7sem'}\n"
     ]
    }
   ],
   "metadata": {}
  },
  {
   "cell_type": "code",
   "execution_count": null,
   "source": [],
   "outputs": [],
   "metadata": {}
  }
 ],
 "metadata": {
  "kernelspec": {
   "name": "python3",
   "display_name": "Python 3.7.7 64-bit ('tensorflow': conda)"
  },
  "language_info": {
   "codemirror_mode": {
    "name": "ipython",
    "version": 3
   },
   "file_extension": ".py",
   "mimetype": "text/x-python",
   "name": "python",
   "nbconvert_exporter": "python",
   "pygments_lexer": "ipython3",
   "version": "3.7.7"
  },
  "interpreter": {
   "hash": "930e46df0d1b93ecf8fe51f04b6e478dce688000f1283825e61bc5e483dc45d1"
  }
 },
 "nbformat": 4,
 "nbformat_minor": 5
}