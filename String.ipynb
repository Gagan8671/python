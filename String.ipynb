{
 "cells": [
  {
   "cell_type": "code",
   "execution_count": 3,
   "source": [
    "var1 = 'Hello World!'\n",
    "var2 = \"Python Programming\"\n",
    "print(var1,\" \",var2)"
   ],
   "outputs": [
    {
     "output_type": "stream",
     "name": "stdout",
     "text": [
      "Hello World!   Python Programming\n"
     ]
    }
   ],
   "metadata": {}
  },
  {
   "cell_type": "code",
   "execution_count": 1,
   "source": [
    "var1 = 'Hello World!'\n",
    "var2 = \"Python Programming\"\n",
    "\n",
    "print (var1[0])\n",
    "\n",
    "\n",
    "\n",
    "print (var2[1:5])"
   ],
   "outputs": [
    {
     "output_type": "stream",
     "name": "stdout",
     "text": [
      "H\n",
      "ytho\n"
     ]
    }
   ],
   "metadata": {}
  },
  {
   "cell_type": "code",
   "execution_count": 1,
   "source": [
    "var1 = 'Hello World!'\n",
    "print (\"Updated String :- \", var1[0:6] + 'Piyush')"
   ],
   "outputs": [
    {
     "output_type": "stream",
     "name": "stdout",
     "text": [
      "Updated String :-  Hello Piyush\n"
     ]
    }
   ],
   "metadata": {}
  },
  {
   "cell_type": "code",
   "execution_count": 6,
   "source": [
    "str1 = input(\"Please Enter Your Own String : \")\n",
    "\n",
    "str2 = str1\n",
    "str3 = str1[:]\n",
    "str4 = str1[2:6]\n",
    "\n",
    "print(\"The Final String : Str2  = \", str2)\n",
    "print(\"The Final String : Str3  = = \", str3)\n",
    "print(\"The Final String : Str4  = = \", str4)"
   ],
   "outputs": [
    {
     "output_type": "stream",
     "name": "stdout",
     "text": [
      "Please Enter Your Own String : hello class\n",
      "The Final String : Str2  =  hello class\n",
      "The Final String : Str3  = =  hello class\n",
      "The Final String : Str4  = =  llo \n"
     ]
    }
   ],
   "metadata": {}
  },
  {
   "cell_type": "code",
   "execution_count": 16,
   "source": [
    "#Python String capitalize() method returns a copy of the string with only its first character capitalized.\n",
    "str = \"this is string example....wow!!!\";\n",
    "print (\"str.capitalize() : \", str.capitalize())"
   ],
   "outputs": [
    {
     "output_type": "stream",
     "name": "stdout",
     "text": [
      "str.capitalize() :  This is string example....wow!!!\n"
     ]
    }
   ],
   "metadata": {}
  },
  {
   "cell_type": "code",
   "execution_count": 13,
   "source": [
    "#center() returns centered in a string of length width. Padding is done using the specified fillchar. Default filler is a space.\n",
    "\n",
    "\n",
    "str = \"this is string example....wow!!!\"\n",
    "print (\"str.center(40, 'a') : \", str.center(40, '*'))"
   ],
   "outputs": [
    {
     "output_type": "stream",
     "name": "stdout",
     "text": [
      "str.center(40, 'a') :  ****this is string example....wow!!!****\n"
     ]
    }
   ],
   "metadata": {}
  },
  {
   "cell_type": "code",
   "execution_count": 16,
   "source": [
    "#count() returns the number of occurrences of substring sub in the range [start, end]. \n",
    "\n",
    "#str.count(sub, start= 0,end=len(string))\n",
    "\n",
    "str = \"this is string example....wow!!!\";\n",
    "\n",
    "sub = \"i\";\n",
    "print (\"str.count(sub, 4, 40) : \", str.count(sub, 4, 40))\n",
    "sub = \"wow\";\n",
    "print (\"str.count(sub) : \", str.count(sub))"
   ],
   "outputs": [
    {
     "output_type": "stream",
     "name": "stdout",
     "text": [
      "str.count(sub, 4, 40) :  2\n",
      "str.count(sub) :  1\n"
     ]
    }
   ],
   "metadata": {}
  },
  {
   "cell_type": "code",
   "execution_count": 21,
   "source": [
    "#find() determines if string str occurs in string, or in a substring of string if starting index beg and ending index end are given.\n",
    "\n",
    "#str.find(str, beg=0, end=len(string))\n",
    "\n",
    "str1 = \"this is string example....wow!!!\";\n",
    "str2 = \"is\";\n",
    "\n",
    "print (str1.find(str2))\n",
    "print (str1.find(str2, 10))\n",
    "print (str1.find(str2, 40))"
   ],
   "outputs": [
    {
     "output_type": "stream",
     "name": "stdout",
     "text": [
      "2\n",
      "-1\n",
      "-1\n"
     ]
    }
   ],
   "metadata": {}
  },
  {
   "cell_type": "code",
   "execution_count": 18,
   "source": [
    "#index() determines if string str occurs in string or in a substring of string if starting index beg and ending index end are given.\n",
    "\n",
    "str1 = \"this is string example....wow!!!\";\n",
    "str2 = \"exam\";\n",
    "\n",
    "print (str1.index(str2))\n",
    "print (str1.index(str2, 10,32))\n"
   ],
   "outputs": [
    {
     "output_type": "stream",
     "name": "stdout",
     "text": [
      "15\n",
      "15\n"
     ]
    }
   ],
   "metadata": {}
  },
  {
   "cell_type": "code",
   "execution_count": 24,
   "source": [
    "#isalnum() checks whether the string consists of alphanumeric characters.\n",
    "\n",
    "str = \"this2009\";  # No space in this string\n",
    "print (str.isalnum())\n",
    "\n",
    "str = \"this is string example....wow!!!\";\n",
    "print (str.isalnum())"
   ],
   "outputs": [
    {
     "output_type": "stream",
     "name": "stdout",
     "text": [
      "True\n",
      "False\n"
     ]
    }
   ],
   "metadata": {}
  },
  {
   "cell_type": "code",
   "execution_count": 1,
   "source": [
    "str = \"gagankumar\";  # No space & digit in this string\n",
    "print (str.isalpha())\n",
    "\n",
    "str = \"this is string example....wow!!!\";\n",
    "print (str.isalpha())"
   ],
   "outputs": [
    {
     "output_type": "stream",
     "name": "stdout",
     "text": [
      "True\n",
      "False\n"
     ]
    }
   ],
   "metadata": {}
  },
  {
   "cell_type": "code",
   "execution_count": 26,
   "source": [
    "str = \"123456\";  # Only digit in this string\n",
    "print (str.isdigit())\n",
    "\n",
    "str = \"this is string example....wow!!!\";\n",
    "print (str.isdigit())"
   ],
   "outputs": [
    {
     "output_type": "stream",
     "name": "stdout",
     "text": [
      "True\n",
      "False\n"
     ]
    }
   ],
   "metadata": {}
  },
  {
   "cell_type": "code",
   "execution_count": 29,
   "source": [
    "str = \"THIS is string example....wow!!!\"; \n",
    "print (str.islower())\n",
    "\n",
    "str = \"this is string example....wow!!!\";\n",
    "print (str.islower())"
   ],
   "outputs": [
    {
     "output_type": "stream",
     "name": "stdout",
     "text": [
      "False\n",
      "True\n"
     ]
    }
   ],
   "metadata": {
    "scrolled": true
   }
  },
  {
   "cell_type": "code",
   "execution_count": 31,
   "source": [
    "str = \"this2009\";  \n",
    "print (str.isnumeric())\n",
    "\n",
    "str = \"23443434\";\n",
    "print (str.isnumeric())"
   ],
   "outputs": [
    {
     "output_type": "stream",
     "name": "stdout",
     "text": [
      "False\n",
      "True\n"
     ]
    }
   ],
   "metadata": {}
  },
  {
   "cell_type": "code",
   "execution_count": 33,
   "source": [
    "str = \"  \"; \n",
    "print (str.isspace())\n",
    "\n",
    "str = \"This is string example....wow!!!\";\n",
    "print (str.isspace())"
   ],
   "outputs": [
    {
     "output_type": "stream",
     "name": "stdout",
     "text": [
      "True\n",
      "False\n"
     ]
    }
   ],
   "metadata": {}
  },
  {
   "cell_type": "code",
   "execution_count": 34,
   "source": [
    "str = \"This Is String Example...Wow!!!\";\n",
    "print (str.istitle())\n",
    "\n",
    "str = \"This is string example....wow!!!\";\n",
    "print (str.istitle())"
   ],
   "outputs": [
    {
     "output_type": "stream",
     "name": "stdout",
     "text": [
      "True\n",
      "False\n"
     ]
    }
   ],
   "metadata": {}
  },
  {
   "cell_type": "code",
   "execution_count": 35,
   "source": [
    "\n",
    "str = \"THIS IS STRING EXAMPLE....WOW!!!\"; \n",
    "print (str.isupper())\n",
    "\n",
    "str = \"THIS is string example....wow!!!\";\n",
    "print (str.isupper())"
   ],
   "outputs": [
    {
     "output_type": "stream",
     "name": "stdout",
     "text": [
      "True\n",
      "False\n"
     ]
    }
   ],
   "metadata": {}
  },
  {
   "cell_type": "code",
   "execution_count": 24,
   "source": [
    "#join() returns a string in which the string elements of sequence have been joined by str separator.\n",
    "\n",
    "s = \"  *  *  \";\n",
    "seq = (\"abc\", \"bttt\", \"cqweqe\"); # This is sequence of strings.\n",
    "print (s.join( seq ))"
   ],
   "outputs": [
    {
     "output_type": "stream",
     "name": "stdout",
     "text": [
      "abc  *  *  bttt  *  *  cqweqe\n"
     ]
    }
   ],
   "metadata": {}
  },
  {
   "cell_type": "code",
   "execution_count": 37,
   "source": [
    "str = \"this is string example....wow!!!\";\n",
    "print (\"Length of the string: \", len(str))"
   ],
   "outputs": [
    {
     "output_type": "stream",
     "name": "stdout",
     "text": [
      "Length of the string:  32\n"
     ]
    }
   ],
   "metadata": {}
  },
  {
   "cell_type": "code",
   "execution_count": 29,
   "source": [
    "#lstrip() returns a copy of the string in which all chars have been stripped from the beginning of the string (default whitespace characters)\n",
    "\n",
    "str = \"     this is string example....wow!!!     \";\n",
    "print (str.lstrip())\n",
    "str = \"88888888this is string example....wow!!!999999\";\n",
    "print (str.lstrip('8'))\n",
    "print (str.rstrip('9'))\n",
    "\n",
    "\n"
   ],
   "outputs": [
    {
     "output_type": "stream",
     "name": "stdout",
     "text": [
      "this is string example....wow!!!     \n",
      "this is string example....wow!!!999999\n",
      "88888888this is string example....wow!!!\n"
     ]
    }
   ],
   "metadata": {}
  },
  {
   "cell_type": "code",
   "execution_count": 39,
   "source": [
    "str = \"THIS IS STRING EXAMPLE....WOW!!!\";\n",
    "print (str.lower())"
   ],
   "outputs": [
    {
     "output_type": "stream",
     "name": "stdout",
     "text": [
      "this is string example....wow!!!\n"
     ]
    }
   ],
   "metadata": {}
  },
  {
   "cell_type": "code",
   "execution_count": 2,
   "source": [
    "#returns largest character\n",
    "str = \"check....wow!!!\";\n",
    "print (\"Max character: \" + max(str))\n",
    "\n",
    "str = \"gagan!!!\";\n",
    "print (\"Max character: \" + max(str))"
   ],
   "outputs": [
    {
     "output_type": "stream",
     "name": "stdout",
     "text": [
      "Max character: w\n",
      "Max character: n\n"
     ]
    }
   ],
   "metadata": {}
  },
  {
   "cell_type": "code",
   "execution_count": 44,
   "source": [
    "str = \"this-is-real-string-example....wow!!!\";\n",
    "print (\"Min character: \" + min(str))\n",
    "\n",
    "str = \"this-is-a-string-example....wow!!!\";\n",
    "print (\"Min character: \" + min(str))"
   ],
   "outputs": [
    {
     "output_type": "stream",
     "name": "stdout",
     "text": [
      "Min character: !\n",
      "Min character: !\n"
     ]
    }
   ],
   "metadata": {}
  },
  {
   "cell_type": "code",
   "execution_count": 32,
   "source": [
    "#str.replace(old, new[, max])\n",
    "\n",
    "str = \"this is string example....wow!!! this is really string\"\n",
    "print (str.replace(\"is\", \"was\"))\n",
    "print (str.replace(\"is\", \"was\", 3))"
   ],
   "outputs": [
    {
     "output_type": "stream",
     "name": "stdout",
     "text": [
      "thwas was string example....wow!!! thwas was really string\n",
      "thwas was string example....wow!!! thwas is really string\n"
     ]
    }
   ],
   "metadata": {}
  },
  {
   "cell_type": "code",
   "execution_count": 48,
   "source": [
    "str = \"this is string example....wow!!!\";\n",
    "print (str.startswith( 'this' ))\n",
    "print (str.startswith( 'is', 2, 4 ))\n",
    "print (str.startswith( 'this', 2, 4 ))"
   ],
   "outputs": [
    {
     "output_type": "stream",
     "name": "stdout",
     "text": [
      "True\n",
      "True\n",
      "False\n"
     ]
    }
   ],
   "metadata": {}
  },
  {
   "cell_type": "code",
   "execution_count": 49,
   "source": [
    "str = \"this is string example....wow!!!\";\n",
    "print (\"str.capitalize() : \", str.upper())"
   ],
   "outputs": [
    {
     "output_type": "stream",
     "name": "stdout",
     "text": [
      "str.capitalize() :  THIS IS STRING EXAMPLE....WOW!!!\n"
     ]
    }
   ],
   "metadata": {}
  },
  {
   "cell_type": "code",
   "execution_count": 50,
   "source": [
    "str = \"this is string example....wow!!!\";\n",
    "print (str.swapcase())\n",
    "\n",
    "str = \"THIS IS STRING EXAMPLE....WOW!!!\";\n",
    "print (str.swapcase())"
   ],
   "outputs": [
    {
     "output_type": "stream",
     "name": "stdout",
     "text": [
      "THIS IS STRING EXAMPLE....WOW!!!\n",
      "this is string example....wow!!!\n"
     ]
    }
   ],
   "metadata": {}
  },
  {
   "cell_type": "code",
   "execution_count": null,
   "source": [],
   "outputs": [],
   "metadata": {}
  },
  {
   "cell_type": "code",
   "execution_count": null,
   "source": [],
   "outputs": [],
   "metadata": {}
  }
 ],
 "metadata": {
  "kernelspec": {
   "name": "python3",
   "display_name": "Python 3.7.7 64-bit ('tensorflow': conda)"
  },
  "language_info": {
   "codemirror_mode": {
    "name": "ipython",
    "version": 3
   },
   "file_extension": ".py",
   "mimetype": "text/x-python",
   "name": "python",
   "nbconvert_exporter": "python",
   "pygments_lexer": "ipython3",
   "version": "3.7.7"
  },
  "interpreter": {
   "hash": "930e46df0d1b93ecf8fe51f04b6e478dce688000f1283825e61bc5e483dc45d1"
  }
 },
 "nbformat": 4,
 "nbformat_minor": 5
}